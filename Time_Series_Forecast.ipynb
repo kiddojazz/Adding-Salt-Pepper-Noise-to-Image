{
  "nbformat": 4,
  "nbformat_minor": 0,
  "metadata": {
    "colab": {
      "name": "Time Series Forecast.ipynb",
      "provenance": [],
      "collapsed_sections": [],
      "authorship_tag": "ABX9TyM1SGRC0EgTyG7InopdbGF7",
      "include_colab_link": true
    },
    "kernelspec": {
      "name": "python3",
      "display_name": "Python 3"
    },
    "language_info": {
      "name": "python"
    }
  },
  "cells": [
    {
      "cell_type": "markdown",
      "metadata": {
        "id": "view-in-github",
        "colab_type": "text"
      },
      "source": [
        "<a href=\"https://colab.research.google.com/github/kiddojazz/Adding-Salt-Pepper-Noise-to-Image/blob/master/Time_Series_Forecast.ipynb\" target=\"_parent\"><img src=\"https://colab.research.google.com/assets/colab-badge.svg\" alt=\"Open In Colab\"/></a>"
      ]
    },
    {
      "cell_type": "markdown",
      "source": [
        "Description: This program uses the artificial intelligence (RNN- Recurrent Neural Network) called Long Short Memory (LSTM)\n",
        "\n",
        "For this project we would be using the Microsoft Corp MSFT for 60 days stock price.\n"
      ],
      "metadata": {
        "id": "6t020-hfNrqo"
      }
    },
    {
      "cell_type": "markdown",
      "source": [
        "# **STEP 1:** Import all necessary Libraries"
      ],
      "metadata": {
        "id": "Xlx_XPGxYS_O"
      }
    },
    {
      "cell_type": "code",
      "source": [
        "#Import the Libraries\n",
        "import math\n",
        "import pandas_datareader as web\n",
        "import numpy as np\n",
        "import pandas as pd\n",
        "from sklearn.preprocessing import MinMaxScaler\n",
        "from keras.models import Sequential\n",
        "from keras.layers import Dense, LSTM\n",
        "import matplotlib.pyplot as plt\n",
        "import datetime\n",
        "plt.style.use(\"fivethirtyeight\")"
      ],
      "metadata": {
        "id": "k8XI8cC3N_Vf"
      },
      "execution_count": null,
      "outputs": []
    },
    {
      "cell_type": "code",
      "source": [
        "#!pip install pandas_datareader\n",
        "!pip install --upgrade pandas\n",
        "!pip install --upgrade pandas-datareader\n",
        "#If your pandas_datareader keep poping error then you will need to upgrade to the latest version"
      ],
      "metadata": {
        "id": "9su5cKNLZFnC",
        "outputId": "34050385-d398-42c0-a238-27388da1f56d",
        "colab": {
          "base_uri": "https://localhost:8080/"
        }
      },
      "execution_count": null,
      "outputs": [
        {
          "output_type": "stream",
          "name": "stdout",
          "text": [
            "Requirement already satisfied: pandas in /usr/local/lib/python3.7/dist-packages (1.3.5)\n",
            "Requirement already satisfied: numpy>=1.17.3 in /usr/local/lib/python3.7/dist-packages (from pandas) (1.19.5)\n",
            "Requirement already satisfied: python-dateutil>=2.7.3 in /usr/local/lib/python3.7/dist-packages (from pandas) (2.8.2)\n",
            "Requirement already satisfied: pytz>=2017.3 in /usr/local/lib/python3.7/dist-packages (from pandas) (2018.9)\n",
            "Requirement already satisfied: six>=1.5 in /usr/local/lib/python3.7/dist-packages (from python-dateutil>=2.7.3->pandas) (1.15.0)\n",
            "Requirement already satisfied: pandas-datareader in /usr/local/lib/python3.7/dist-packages (0.10.0)\n",
            "Requirement already satisfied: requests>=2.19.0 in /usr/local/lib/python3.7/dist-packages (from pandas-datareader) (2.23.0)\n",
            "Requirement already satisfied: lxml in /usr/local/lib/python3.7/dist-packages (from pandas-datareader) (4.2.6)\n",
            "Requirement already satisfied: pandas>=0.23 in /usr/local/lib/python3.7/dist-packages (from pandas-datareader) (1.3.5)\n",
            "Requirement already satisfied: python-dateutil>=2.7.3 in /usr/local/lib/python3.7/dist-packages (from pandas>=0.23->pandas-datareader) (2.8.2)\n",
            "Requirement already satisfied: pytz>=2017.3 in /usr/local/lib/python3.7/dist-packages (from pandas>=0.23->pandas-datareader) (2018.9)\n",
            "Requirement already satisfied: numpy>=1.17.3 in /usr/local/lib/python3.7/dist-packages (from pandas>=0.23->pandas-datareader) (1.19.5)\n",
            "Requirement already satisfied: six>=1.5 in /usr/local/lib/python3.7/dist-packages (from python-dateutil>=2.7.3->pandas>=0.23->pandas-datareader) (1.15.0)\n",
            "Requirement already satisfied: idna<3,>=2.5 in /usr/local/lib/python3.7/dist-packages (from requests>=2.19.0->pandas-datareader) (2.10)\n",
            "Requirement already satisfied: certifi>=2017.4.17 in /usr/local/lib/python3.7/dist-packages (from requests>=2.19.0->pandas-datareader) (2021.10.8)\n",
            "Requirement already satisfied: chardet<4,>=3.0.2 in /usr/local/lib/python3.7/dist-packages (from requests>=2.19.0->pandas-datareader) (3.0.4)\n",
            "Requirement already satisfied: urllib3!=1.25.0,!=1.25.1,<1.26,>=1.21.1 in /usr/local/lib/python3.7/dist-packages (from requests>=2.19.0->pandas-datareader) (1.24.3)\n"
          ]
        }
      ]
    },
    {
      "cell_type": "markdown",
      "source": [
        "# **STEP 2:** Get the Data from Yahoo Finance site"
      ],
      "metadata": {
        "id": "KH9KgK7pYcFA"
      }
    },
    {
      "cell_type": "code",
      "source": [
        "#Get the stock for MSFT\n",
        "MSFT = web.get_data_yahoo(\"MSFT\",\n",
        "                         start=datetime.datetime(2010, 1, 1),\n",
        "                         end=datetime.datetime(2021,12,31))"
      ],
      "metadata": {
        "id": "k8Puf0P6R5Pm"
      },
      "execution_count": null,
      "outputs": []
    },
    {
      "cell_type": "code",
      "source": [
        "MSFT.head(n=20) #Top 20 row "
      ],
      "metadata": {
        "colab": {
          "base_uri": "https://localhost:8080/",
          "height": 708
        },
        "id": "O1lDvHIXcIQ2",
        "outputId": "b88fbe96-ca77-42e6-bb10-a843d37c8083"
      },
      "execution_count": null,
      "outputs": [
        {
          "output_type": "execute_result",
          "data": {
            "text/html": [
              "\n",
              "  <div id=\"df-5b429ef0-dadf-476d-93dc-60dbca142d90\">\n",
              "    <div class=\"colab-df-container\">\n",
              "      <div>\n",
              "<style scoped>\n",
              "    .dataframe tbody tr th:only-of-type {\n",
              "        vertical-align: middle;\n",
              "    }\n",
              "\n",
              "    .dataframe tbody tr th {\n",
              "        vertical-align: top;\n",
              "    }\n",
              "\n",
              "    .dataframe thead th {\n",
              "        text-align: right;\n",
              "    }\n",
              "</style>\n",
              "<table border=\"1\" class=\"dataframe\">\n",
              "  <thead>\n",
              "    <tr style=\"text-align: right;\">\n",
              "      <th></th>\n",
              "      <th>High</th>\n",
              "      <th>Low</th>\n",
              "      <th>Open</th>\n",
              "      <th>Close</th>\n",
              "      <th>Volume</th>\n",
              "      <th>Adj Close</th>\n",
              "    </tr>\n",
              "    <tr>\n",
              "      <th>Date</th>\n",
              "      <th></th>\n",
              "      <th></th>\n",
              "      <th></th>\n",
              "      <th></th>\n",
              "      <th></th>\n",
              "      <th></th>\n",
              "    </tr>\n",
              "  </thead>\n",
              "  <tbody>\n",
              "    <tr>\n",
              "      <th>2010-01-04</th>\n",
              "      <td>31.100000</td>\n",
              "      <td>30.590000</td>\n",
              "      <td>30.620001</td>\n",
              "      <td>30.950001</td>\n",
              "      <td>38409100.0</td>\n",
              "      <td>23.904982</td>\n",
              "    </tr>\n",
              "    <tr>\n",
              "      <th>2010-01-05</th>\n",
              "      <td>31.100000</td>\n",
              "      <td>30.639999</td>\n",
              "      <td>30.850000</td>\n",
              "      <td>30.959999</td>\n",
              "      <td>49749600.0</td>\n",
              "      <td>23.912699</td>\n",
              "    </tr>\n",
              "    <tr>\n",
              "      <th>2010-01-06</th>\n",
              "      <td>31.080000</td>\n",
              "      <td>30.520000</td>\n",
              "      <td>30.879999</td>\n",
              "      <td>30.770000</td>\n",
              "      <td>58182400.0</td>\n",
              "      <td>23.765955</td>\n",
              "    </tr>\n",
              "    <tr>\n",
              "      <th>2010-01-07</th>\n",
              "      <td>30.700001</td>\n",
              "      <td>30.190001</td>\n",
              "      <td>30.629999</td>\n",
              "      <td>30.450001</td>\n",
              "      <td>50559700.0</td>\n",
              "      <td>23.518797</td>\n",
              "    </tr>\n",
              "    <tr>\n",
              "      <th>2010-01-08</th>\n",
              "      <td>30.879999</td>\n",
              "      <td>30.240000</td>\n",
              "      <td>30.280001</td>\n",
              "      <td>30.660000</td>\n",
              "      <td>51197400.0</td>\n",
              "      <td>23.680988</td>\n",
              "    </tr>\n",
              "    <tr>\n",
              "      <th>2010-01-11</th>\n",
              "      <td>30.760000</td>\n",
              "      <td>30.120001</td>\n",
              "      <td>30.709999</td>\n",
              "      <td>30.270000</td>\n",
              "      <td>68754700.0</td>\n",
              "      <td>23.379766</td>\n",
              "    </tr>\n",
              "    <tr>\n",
              "      <th>2010-01-12</th>\n",
              "      <td>30.400000</td>\n",
              "      <td>29.910000</td>\n",
              "      <td>30.150000</td>\n",
              "      <td>30.070000</td>\n",
              "      <td>65912100.0</td>\n",
              "      <td>23.225292</td>\n",
              "    </tr>\n",
              "    <tr>\n",
              "      <th>2010-01-13</th>\n",
              "      <td>30.520000</td>\n",
              "      <td>30.010000</td>\n",
              "      <td>30.260000</td>\n",
              "      <td>30.350000</td>\n",
              "      <td>51863500.0</td>\n",
              "      <td>23.441555</td>\n",
              "    </tr>\n",
              "    <tr>\n",
              "      <th>2010-01-14</th>\n",
              "      <td>31.100000</td>\n",
              "      <td>30.260000</td>\n",
              "      <td>30.309999</td>\n",
              "      <td>30.959999</td>\n",
              "      <td>63228100.0</td>\n",
              "      <td>23.912699</td>\n",
              "    </tr>\n",
              "    <tr>\n",
              "      <th>2010-01-15</th>\n",
              "      <td>31.240000</td>\n",
              "      <td>30.709999</td>\n",
              "      <td>31.080000</td>\n",
              "      <td>30.860001</td>\n",
              "      <td>79913200.0</td>\n",
              "      <td>23.835472</td>\n",
              "    </tr>\n",
              "    <tr>\n",
              "      <th>2010-01-19</th>\n",
              "      <td>31.240000</td>\n",
              "      <td>30.680000</td>\n",
              "      <td>30.750000</td>\n",
              "      <td>31.100000</td>\n",
              "      <td>46575700.0</td>\n",
              "      <td>24.020838</td>\n",
              "    </tr>\n",
              "    <tr>\n",
              "      <th>2010-01-20</th>\n",
              "      <td>30.940001</td>\n",
              "      <td>30.309999</td>\n",
              "      <td>30.809999</td>\n",
              "      <td>30.590000</td>\n",
              "      <td>54849500.0</td>\n",
              "      <td>23.626928</td>\n",
              "    </tr>\n",
              "    <tr>\n",
              "      <th>2010-01-21</th>\n",
              "      <td>30.719999</td>\n",
              "      <td>30.000000</td>\n",
              "      <td>30.610001</td>\n",
              "      <td>30.010000</td>\n",
              "      <td>73086700.0</td>\n",
              "      <td>23.178957</td>\n",
              "    </tr>\n",
              "    <tr>\n",
              "      <th>2010-01-22</th>\n",
              "      <td>30.200001</td>\n",
              "      <td>28.840000</td>\n",
              "      <td>30.000000</td>\n",
              "      <td>28.959999</td>\n",
              "      <td>102004600.0</td>\n",
              "      <td>22.367958</td>\n",
              "    </tr>\n",
              "    <tr>\n",
              "      <th>2010-01-25</th>\n",
              "      <td>29.660000</td>\n",
              "      <td>29.100000</td>\n",
              "      <td>29.240000</td>\n",
              "      <td>29.320000</td>\n",
              "      <td>63373000.0</td>\n",
              "      <td>22.646015</td>\n",
              "    </tr>\n",
              "    <tr>\n",
              "      <th>2010-01-26</th>\n",
              "      <td>29.850000</td>\n",
              "      <td>29.090000</td>\n",
              "      <td>29.200001</td>\n",
              "      <td>29.500000</td>\n",
              "      <td>66639900.0</td>\n",
              "      <td>22.785040</td>\n",
              "    </tr>\n",
              "    <tr>\n",
              "      <th>2010-01-27</th>\n",
              "      <td>29.820000</td>\n",
              "      <td>29.020000</td>\n",
              "      <td>29.350000</td>\n",
              "      <td>29.670000</td>\n",
              "      <td>63949500.0</td>\n",
              "      <td>22.916338</td>\n",
              "    </tr>\n",
              "    <tr>\n",
              "      <th>2010-01-28</th>\n",
              "      <td>29.870001</td>\n",
              "      <td>28.889999</td>\n",
              "      <td>29.840000</td>\n",
              "      <td>29.160000</td>\n",
              "      <td>117513700.0</td>\n",
              "      <td>22.522430</td>\n",
              "    </tr>\n",
              "    <tr>\n",
              "      <th>2010-01-29</th>\n",
              "      <td>29.920000</td>\n",
              "      <td>27.660000</td>\n",
              "      <td>29.900000</td>\n",
              "      <td>28.180000</td>\n",
              "      <td>193888500.0</td>\n",
              "      <td>21.765503</td>\n",
              "    </tr>\n",
              "    <tr>\n",
              "      <th>2010-02-01</th>\n",
              "      <td>28.480000</td>\n",
              "      <td>27.920000</td>\n",
              "      <td>28.389999</td>\n",
              "      <td>28.410000</td>\n",
              "      <td>85931100.0</td>\n",
              "      <td>21.943148</td>\n",
              "    </tr>\n",
              "  </tbody>\n",
              "</table>\n",
              "</div>\n",
              "      <button class=\"colab-df-convert\" onclick=\"convertToInteractive('df-5b429ef0-dadf-476d-93dc-60dbca142d90')\"\n",
              "              title=\"Convert this dataframe to an interactive table.\"\n",
              "              style=\"display:none;\">\n",
              "        \n",
              "  <svg xmlns=\"http://www.w3.org/2000/svg\" height=\"24px\"viewBox=\"0 0 24 24\"\n",
              "       width=\"24px\">\n",
              "    <path d=\"M0 0h24v24H0V0z\" fill=\"none\"/>\n",
              "    <path d=\"M18.56 5.44l.94 2.06.94-2.06 2.06-.94-2.06-.94-.94-2.06-.94 2.06-2.06.94zm-11 1L8.5 8.5l.94-2.06 2.06-.94-2.06-.94L8.5 2.5l-.94 2.06-2.06.94zm10 10l.94 2.06.94-2.06 2.06-.94-2.06-.94-.94-2.06-.94 2.06-2.06.94z\"/><path d=\"M17.41 7.96l-1.37-1.37c-.4-.4-.92-.59-1.43-.59-.52 0-1.04.2-1.43.59L10.3 9.45l-7.72 7.72c-.78.78-.78 2.05 0 2.83L4 21.41c.39.39.9.59 1.41.59.51 0 1.02-.2 1.41-.59l7.78-7.78 2.81-2.81c.8-.78.8-2.07 0-2.86zM5.41 20L4 18.59l7.72-7.72 1.47 1.35L5.41 20z\"/>\n",
              "  </svg>\n",
              "      </button>\n",
              "      \n",
              "  <style>\n",
              "    .colab-df-container {\n",
              "      display:flex;\n",
              "      flex-wrap:wrap;\n",
              "      gap: 12px;\n",
              "    }\n",
              "\n",
              "    .colab-df-convert {\n",
              "      background-color: #E8F0FE;\n",
              "      border: none;\n",
              "      border-radius: 50%;\n",
              "      cursor: pointer;\n",
              "      display: none;\n",
              "      fill: #1967D2;\n",
              "      height: 32px;\n",
              "      padding: 0 0 0 0;\n",
              "      width: 32px;\n",
              "    }\n",
              "\n",
              "    .colab-df-convert:hover {\n",
              "      background-color: #E2EBFA;\n",
              "      box-shadow: 0px 1px 2px rgba(60, 64, 67, 0.3), 0px 1px 3px 1px rgba(60, 64, 67, 0.15);\n",
              "      fill: #174EA6;\n",
              "    }\n",
              "\n",
              "    [theme=dark] .colab-df-convert {\n",
              "      background-color: #3B4455;\n",
              "      fill: #D2E3FC;\n",
              "    }\n",
              "\n",
              "    [theme=dark] .colab-df-convert:hover {\n",
              "      background-color: #434B5C;\n",
              "      box-shadow: 0px 1px 3px 1px rgba(0, 0, 0, 0.15);\n",
              "      filter: drop-shadow(0px 1px 2px rgba(0, 0, 0, 0.3));\n",
              "      fill: #FFFFFF;\n",
              "    }\n",
              "  </style>\n",
              "\n",
              "      <script>\n",
              "        const buttonEl =\n",
              "          document.querySelector('#df-5b429ef0-dadf-476d-93dc-60dbca142d90 button.colab-df-convert');\n",
              "        buttonEl.style.display =\n",
              "          google.colab.kernel.accessAllowed ? 'block' : 'none';\n",
              "\n",
              "        async function convertToInteractive(key) {\n",
              "          const element = document.querySelector('#df-5b429ef0-dadf-476d-93dc-60dbca142d90');\n",
              "          const dataTable =\n",
              "            await google.colab.kernel.invokeFunction('convertToInteractive',\n",
              "                                                     [key], {});\n",
              "          if (!dataTable) return;\n",
              "\n",
              "          const docLinkHtml = 'Like what you see? Visit the ' +\n",
              "            '<a target=\"_blank\" href=https://colab.research.google.com/notebooks/data_table.ipynb>data table notebook</a>'\n",
              "            + ' to learn more about interactive tables.';\n",
              "          element.innerHTML = '';\n",
              "          dataTable['output_type'] = 'display_data';\n",
              "          await google.colab.output.renderOutput(dataTable, element);\n",
              "          const docLink = document.createElement('div');\n",
              "          docLink.innerHTML = docLinkHtml;\n",
              "          element.appendChild(docLink);\n",
              "        }\n",
              "      </script>\n",
              "    </div>\n",
              "  </div>\n",
              "  "
            ],
            "text/plain": [
              "                 High        Low       Open      Close       Volume  Adj Close\n",
              "Date                                                                          \n",
              "2010-01-04  31.100000  30.590000  30.620001  30.950001   38409100.0  23.904982\n",
              "2010-01-05  31.100000  30.639999  30.850000  30.959999   49749600.0  23.912699\n",
              "2010-01-06  31.080000  30.520000  30.879999  30.770000   58182400.0  23.765955\n",
              "2010-01-07  30.700001  30.190001  30.629999  30.450001   50559700.0  23.518797\n",
              "2010-01-08  30.879999  30.240000  30.280001  30.660000   51197400.0  23.680988\n",
              "2010-01-11  30.760000  30.120001  30.709999  30.270000   68754700.0  23.379766\n",
              "2010-01-12  30.400000  29.910000  30.150000  30.070000   65912100.0  23.225292\n",
              "2010-01-13  30.520000  30.010000  30.260000  30.350000   51863500.0  23.441555\n",
              "2010-01-14  31.100000  30.260000  30.309999  30.959999   63228100.0  23.912699\n",
              "2010-01-15  31.240000  30.709999  31.080000  30.860001   79913200.0  23.835472\n",
              "2010-01-19  31.240000  30.680000  30.750000  31.100000   46575700.0  24.020838\n",
              "2010-01-20  30.940001  30.309999  30.809999  30.590000   54849500.0  23.626928\n",
              "2010-01-21  30.719999  30.000000  30.610001  30.010000   73086700.0  23.178957\n",
              "2010-01-22  30.200001  28.840000  30.000000  28.959999  102004600.0  22.367958\n",
              "2010-01-25  29.660000  29.100000  29.240000  29.320000   63373000.0  22.646015\n",
              "2010-01-26  29.850000  29.090000  29.200001  29.500000   66639900.0  22.785040\n",
              "2010-01-27  29.820000  29.020000  29.350000  29.670000   63949500.0  22.916338\n",
              "2010-01-28  29.870001  28.889999  29.840000  29.160000  117513700.0  22.522430\n",
              "2010-01-29  29.920000  27.660000  29.900000  28.180000  193888500.0  21.765503\n",
              "2010-02-01  28.480000  27.920000  28.389999  28.410000   85931100.0  21.943148"
            ]
          },
          "metadata": {},
          "execution_count": 4
        }
      ]
    },
    {
      "cell_type": "code",
      "source": [
        "MSFT.head"
      ],
      "metadata": {
        "colab": {
          "base_uri": "https://localhost:8080/"
        },
        "id": "zbdCXjFNfLjI",
        "outputId": "e13c5ef0-7a63-4cc3-c469-5e3d4126f343"
      },
      "execution_count": null,
      "outputs": [
        {
          "output_type": "execute_result",
          "data": {
            "text/plain": [
              "<bound method NDFrame.head of                   High         Low  ...      Volume   Adj Close\n",
              "Date                                ...                        \n",
              "2010-01-04   31.100000   30.590000  ...  38409100.0   23.904982\n",
              "2010-01-05   31.100000   30.639999  ...  49749600.0   23.912699\n",
              "2010-01-06   31.080000   30.520000  ...  58182400.0   23.765955\n",
              "2010-01-07   30.700001   30.190001  ...  50559700.0   23.518797\n",
              "2010-01-08   30.879999   30.240000  ...  51197400.0   23.680988\n",
              "...                ...         ...  ...         ...         ...\n",
              "2021-12-17  324.920013  317.250000  ...  47750300.0  323.799988\n",
              "2021-12-20  322.799988  317.570007  ...  28326500.0  319.910004\n",
              "2021-12-21  327.730011  319.799988  ...  24740600.0  327.290009\n",
              "2021-12-22  333.609985  325.750000  ...  24831500.0  333.200012\n",
              "2021-12-23  336.390015  332.730011  ...  19611200.0  334.690002\n",
              "\n",
              "[3016 rows x 6 columns]>"
            ]
          },
          "metadata": {},
          "execution_count": 5
        }
      ]
    },
    {
      "cell_type": "markdown",
      "source": [
        "While closing price merely refers to the cost of shares at the end of the day, the adjusted closing price considers other factors like dividends, stock splits, and new stock offerings. Since the adjusted closing price begins where the closing price ends, it can be called a more accurate measure of stocks' value."
      ],
      "metadata": {
        "id": "mHVEwrpOhkEo"
      }
    },
    {
      "cell_type": "code",
      "source": [
        "#Visualization of the Adj Closin\n",
        "plt.figure(figsize=(16,8))\n",
        "plt.title(\"Closing Price History\")\n",
        "plt.plot(MSFT[\"Adj Close\"])\n",
        "plt.xlabel(\"Date\", fontsize=18)\n",
        "plt.ylabel(\"Adj Closing Price USD $\", fontsize=18)\n",
        "plt.show()"
      ],
      "metadata": {
        "colab": {
          "base_uri": "https://localhost:8080/",
          "height": 518
        },
        "id": "cYFq0e9chbqQ",
        "outputId": "462920ab-4d3d-4111-adc9-698cd65a9a7e"
      },
      "execution_count": null,
      "outputs": [
        {
          "output_type": "display_data",
          "data": {
            "image/png": "[encoded data removed]",
            "text/plain": [
              "<Figure size 1152x576 with 1 Axes>"
            ]
          },
          "metadata": {
            "needs_background": "light"
          }
        }
      ]
    },
    {
      "cell_type": "markdown",
      "source": [
        "# **STEP 3:** Create a New DataFrame with the \"Adj Close\" as the Column needed."
      ],
      "metadata": {
        "id": "PcNifu2imr7g"
      }
    },
    {
      "cell_type": "code",
      "source": [
        "#Create a new dataframe with only the Adj Close Column\n",
        "data = MSFT.filter([\"Adj Close\"])\n",
        "#Convert the dataframe to a numpy array\n",
        "dataset = data.values\n",
        "#Get the number of rows to train the model on\n",
        "training_data_len = math.ceil( len(dataset) *.8) #This is use to train 80% of the dataset\n",
        "\n",
        "training_data_len"
      ],
      "metadata": {
        "colab": {
          "base_uri": "https://localhost:8080/"
        },
        "id": "-fxXgicq0ZHZ",
        "outputId": "f4d70be2-cb38-4042-cbe4-ebfc13223886"
      },
      "execution_count": null,
      "outputs": [
        {
          "output_type": "execute_result",
          "data": {
            "text/plain": [
              "2413"
            ]
          },
          "metadata": {},
          "execution_count": 7
        }
      ]
    },
    {
      "cell_type": "code",
      "source": [
        "#Scale the data\n",
        "scaler = MinMaxScaler(feature_range=(0,1))\n",
        "scaled_data = scaler.fit_transform(dataset)\n",
        "\n",
        "scaled_data\n",
        "#Scaling the data means you are actually standardizing your data"
      ],
      "metadata": {
        "colab": {
          "base_uri": "https://localhost:8080/"
        },
        "id": "fHgNYVAR11c1",
        "outputId": "b7066900-ef60-4516-c0d1-1fd7108e05a2"
      },
      "execution_count": null,
      "outputs": [
        {
          "output_type": "execute_result",
          "data": {
            "text/plain": [
              "array([[0.01835624],\n",
              "       [0.01837998],\n",
              "       [0.0179287 ],\n",
              "       ...,\n",
              "       [0.95134919],\n",
              "       [0.96952409],\n",
              "       [0.97410622]])"
            ]
          },
          "metadata": {},
          "execution_count": 8
        }
      ]
    },
    {
      "cell_type": "code",
      "source": [
        "#Create the training model for the dataset\n",
        "#Create the scaled training dataset\n",
        "train_data = scaled_data[0:training_data_len , :]\n",
        "#Split the data into x_train & y_train\n",
        "x_train = []\n",
        "y_train = []\n",
        "\n",
        "for i in range(60, len(train_data)):\n",
        "  x_train.append(train_data[i-60:i, 0])\n",
        "  y_train.append(train_data[i, 0])\n",
        "  if i<= 61:\n",
        "    print(x_train)\n",
        "    print(y_train)\n",
        "    print()"
      ],
      "metadata": {
        "colab": {
          "base_uri": "https://localhost:8080/"
        },
        "id": "tIrkMOc02tBl",
        "outputId": "ebfbb2e1-aa45-4c15-88f9-34613525431e"
      },
      "execution_count": null,
      "outputs": [
        {
          "output_type": "stream",
          "name": "stdout",
          "text": [
            "[array([0.01835624, 0.01837998, 0.0179287 , 0.01716862, 0.0176674 ,\n",
            "       0.01674106, 0.01626601, 0.01693108, 0.01837998, 0.01814248,\n",
            "       0.01871253, 0.01750115, 0.01612352, 0.01362947, 0.01448457,\n",
            "       0.01491211, 0.01531589, 0.01410452, 0.01177676, 0.01232306,\n",
            "       0.01244184, 0.01284564, 0.01096919, 0.01139673, 0.01068415,\n",
            "       0.01137294, 0.01132546, 0.01163426, 0.01118297, 0.01249545,\n",
            "       0.01306817, 0.013975  , 0.01349773, 0.01340228, 0.01244773,\n",
            "       0.01316364, 0.01309206, 0.01325909, 0.01409431, 0.01275794,\n",
            "       0.01275794, 0.01316364, 0.01306817, 0.01316364, 0.01356931,\n",
            "       0.013975  , 0.01447615, 0.01469093, 0.01473866, 0.01492955,\n",
            "       0.01555   , 0.0155023 , 0.01545455, 0.01547842, 0.01614661,\n",
            "       0.01559773, 0.01645683, 0.01562159, 0.01545455, 0.0158841 ])]\n",
            "[0.01473865584297731]\n",
            "\n",
            "[array([0.01835624, 0.01837998, 0.0179287 , 0.01716862, 0.0176674 ,\n",
            "       0.01674106, 0.01626601, 0.01693108, 0.01837998, 0.01814248,\n",
            "       0.01871253, 0.01750115, 0.01612352, 0.01362947, 0.01448457,\n",
            "       0.01491211, 0.01531589, 0.01410452, 0.01177676, 0.01232306,\n",
            "       0.01244184, 0.01284564, 0.01096919, 0.01139673, 0.01068415,\n",
            "       0.01137294, 0.01132546, 0.01163426, 0.01118297, 0.01249545,\n",
            "       0.01306817, 0.013975  , 0.01349773, 0.01340228, 0.01244773,\n",
            "       0.01316364, 0.01309206, 0.01325909, 0.01409431, 0.01275794,\n",
            "       0.01275794, 0.01316364, 0.01306817, 0.01316364, 0.01356931,\n",
            "       0.013975  , 0.01447615, 0.01469093, 0.01473866, 0.01492955,\n",
            "       0.01555   , 0.0155023 , 0.01545455, 0.01547842, 0.01614661,\n",
            "       0.01559773, 0.01645683, 0.01562159, 0.01545455, 0.0158841 ]), array([0.01837998, 0.0179287 , 0.01716862, 0.0176674 , 0.01674106,\n",
            "       0.01626601, 0.01693108, 0.01837998, 0.01814248, 0.01871253,\n",
            "       0.01750115, 0.01612352, 0.01362947, 0.01448457, 0.01491211,\n",
            "       0.01531589, 0.01410452, 0.01177676, 0.01232306, 0.01244184,\n",
            "       0.01284564, 0.01096919, 0.01139673, 0.01068415, 0.01137294,\n",
            "       0.01132546, 0.01163426, 0.01118297, 0.01249545, 0.01306817,\n",
            "       0.013975  , 0.01349773, 0.01340228, 0.01244773, 0.01316364,\n",
            "       0.01309206, 0.01325909, 0.01409431, 0.01275794, 0.01275794,\n",
            "       0.01316364, 0.01306817, 0.01316364, 0.01356931, 0.013975  ,\n",
            "       0.01447615, 0.01469093, 0.01473866, 0.01492955, 0.01555   ,\n",
            "       0.0155023 , 0.01545455, 0.01547842, 0.01614661, 0.01559773,\n",
            "       0.01645683, 0.01562159, 0.01545455, 0.0158841 , 0.01473866])]\n",
            "[0.01473865584297731, 0.014428417067106049]\n",
            "\n"
          ]
        }
      ]
    },
    {
      "cell_type": "code",
      "source": [
        "#Convert the x_train and y_train to numpy arrays\n",
        "x_train, y_train = np.array(x_train), np.array(y_train)"
      ],
      "metadata": {
        "id": "sZu2CD7o4wTK"
      },
      "execution_count": null,
      "outputs": []
    },
    {
      "cell_type": "code",
      "source": [
        "#Reshape the data to a 3 dimensional shape\n",
        "x_train = np.reshape(x_train, (x_train.shape[0], x_train.shape[1], 1))\n",
        "x_train.shape\n",
        "#Now you'll notice it a 3 dimensional shape"
      ],
      "metadata": {
        "colab": {
          "base_uri": "https://localhost:8080/"
        },
        "id": "PKvuFiY65KkP",
        "outputId": "bab2dcef-dc7e-4aa6-fc55-080fbd7ea67e"
      },
      "execution_count": null,
      "outputs": [
        {
          "output_type": "execute_result",
          "data": {
            "text/plain": [
              "(2353, 60, 1)"
            ]
          },
          "metadata": {},
          "execution_count": 11
        }
      ]
    },
    {
      "cell_type": "markdown",
      "source": [
        "# **STEP 4:** Create your Model"
      ],
      "metadata": {
        "id": "aWoVqGMRm7sN"
      }
    },
    {
      "cell_type": "code",
      "source": [
        "#Build the LSTM model\n",
        "model = Sequential()\n",
        "model.add(LSTM(50, return_sequences=True, input_shape= (x_train.shape[1], 1)))#50 means the no of input neurons\n",
        "model.add(LSTM(50, return_sequences= False))\n",
        "model.add(Dense(25))\n",
        "model.add(Dense(1))# Final output  "
      ],
      "metadata": {
        "id": "ZiqHkWWm55Pp"
      },
      "execution_count": null,
      "outputs": []
    },
    {
      "cell_type": "code",
      "source": [
        "#Compile the model\n",
        "model.compile(optimizer=\"adam\", loss=\"mean_squared_error\")"
      ],
      "metadata": {
        "id": "rUsh9E_O7jo0"
      },
      "execution_count": null,
      "outputs": []
    },
    {
      "cell_type": "code",
      "source": [
        "#Train the model\n",
        "model.fit(x_train, y_train, batch_size=1, epochs=5)#Batch size the number of Batch per training, while epochs is the number of Iteration"
      ],
      "metadata": {
        "colab": {
          "base_uri": "https://localhost:8080/"
        },
        "id": "LcOK5Dr37xQc",
        "outputId": "9d33eb7c-ab63-4c31-9f7b-3b4e91ba835f"
      },
      "execution_count": null,
      "outputs": [
        {
          "output_type": "stream",
          "name": "stdout",
          "text": [
            "Epoch 1/5\n",
            "2353/2353 [==============================] - 76s 31ms/step - loss: 1.4837e-04\n",
            "Epoch 2/5\n",
            "2353/2353 [==============================] - 69s 29ms/step - loss: 7.2891e-05\n",
            "Epoch 3/5\n",
            "2353/2353 [==============================] - 71s 30ms/step - loss: 5.3961e-05\n",
            "Epoch 4/5\n",
            "2353/2353 [==============================] - 71s 30ms/step - loss: 5.1106e-05\n",
            "Epoch 5/5\n",
            "2353/2353 [==============================] - 70s 30ms/step - loss: 3.8379e-05\n"
          ]
        },
        {
          "output_type": "execute_result",
          "data": {
            "text/plain": [
              "<keras.callbacks.History at 0x7f6eb31e9d50>"
            ]
          },
          "metadata": {},
          "execution_count": 14
        }
      ]
    },
    {
      "cell_type": "code",
      "source": [
        " #Create the testing data set\n",
        " #Create a new array containing scaled values from index 1543 to 2003\n",
        " test_data = scaled_data[training_data_len - 60: , :]\n",
        " #Create the data sets x_test and y_test\n",
        " x_test = []\n",
        " y_test = dataset[training_data_len:, :]\n",
        " for i in range(60, len(test_data)):\n",
        "   x_test.append(test_data[i-60:i, 0])"
      ],
      "metadata": {
        "id": "s9jipgxQveus"
      },
      "execution_count": null,
      "outputs": []
    },
    {
      "cell_type": "code",
      "source": [
        "#Convert the data to a numpy array\n",
        "x_test = np.array(x_test)"
      ],
      "metadata": {
        "id": "DMZSbsb40QIn"
      },
      "execution_count": null,
      "outputs": []
    },
    {
      "cell_type": "code",
      "source": [
        "#Reshape the data\n",
        "x_test = np.reshape(x_test, (x_test.shape[0], x_test.shape[1], 1 ))"
      ],
      "metadata": {
        "id": "qYykgp6w1ME4"
      },
      "execution_count": null,
      "outputs": []
    },
    {
      "cell_type": "code",
      "source": [
        "#Get the model predicted price values\n",
        "predictions = model.predict(x_test)\n",
        "predictions = scaler.inverse_transform(predictions)"
      ],
      "metadata": {
        "id": "b2qx0faq1cVC"
      },
      "execution_count": null,
      "outputs": []
    },
    {
      "cell_type": "code",
      "source": [
        "#Evaluate the model: Getting the root square error (RMSE)\n",
        "rmse = np.sqrt( np.mean( predictions - y_test )**2 )\n",
        "rmse"
      ],
      "metadata": {
        "colab": {
          "base_uri": "https://localhost:8080/"
        },
        "id": "IPTBANRs2she",
        "outputId": "39467497-578f-4fda-b729-1e0c921cb3d7"
      },
      "execution_count": null,
      "outputs": [
        {
          "output_type": "execute_result",
          "data": {
            "text/plain": [
              "16.924483341957206"
            ]
          },
          "metadata": {},
          "execution_count": 21
        }
      ]
    },
    {
      "cell_type": "code",
      "source": [
        "#Plot the data\n",
        "train = data[:training_data_len]\n",
        "valid = data[training_data_len:]\n",
        "valid[\"Predictions\"] = predictions\n",
        "#Visualize the data \n",
        "plt.figure(figsize=(16,8))\n",
        "plt.title(\"Model\")\n",
        "plt.xlabel(\"Data\", fontsize=18)\n",
        "plt.ylabel(\"Adj Close Price USD ($)\", fontsize=18)\n",
        "plt.plot(train[\"Adj Close\"])\n",
        "plt.plot(valid[[\"Adj Close\", \"Predictions\"]])\n",
        "plt.legend([\"Train\", \"Val\", \"Predictions\"], loc=\"lower right\")\n",
        "plt.show()"
      ],
      "metadata": {
        "colab": {
          "base_uri": "https://localhost:8080/",
          "height": 627
        },
        "id": "eXag3G9L48Mh",
        "outputId": "e06b26a3-0334-42bc-a374-2dd9be58bedd"
      },
      "execution_count": null,
      "outputs": [
        {
          "output_type": "stream",
          "name": "stderr",
          "text": [
            "/usr/local/lib/python3.7/dist-packages/ipykernel_launcher.py:4: SettingWithCopyWarning: \n",
            "A value is trying to be set on a copy of a slice from a DataFrame.\n",
            "Try using .loc[row_indexer,col_indexer] = value instead\n",
            "\n",
            "See the caveats in the documentation: https://pandas.pydata.org/pandas-docs/stable/user_guide/indexing.html#returning-a-view-versus-a-copy\n",
            "  after removing the cwd from sys.path.\n"
          ]
        },
        {
          "output_type": "display_data",
          "data": {
            "image/png": "[encoded data removed]",
            "text/plain": [
              "<Figure size 1152x576 with 1 Axes>"
            ]
          },
          "metadata": {
            "needs_background": "light"
          }
        }
      ]
    },
    {
      "cell_type": "code",
      "source": [
        "#Show the valid and predicted prices\n",
        "valid\n",
        "#This compares between the \"Adj Close\" and \"Predictions\"\n"
      ],
      "metadata": {
        "colab": {
          "base_uri": "https://localhost:8080/",
          "height": 455
        },
        "id": "YuSQTj02Bmbf",
        "outputId": "19c9e589-bc65-4bdd-f572-44b0549f3414"
      },
      "execution_count": null,
      "outputs": [
        {
          "output_type": "execute_result",
          "data": {
            "text/html": [
              "\n",
              "  <div id=\"df-3a3360d7-96ab-4951-964d-a3b371fcba12\">\n",
              "    <div class=\"colab-df-container\">\n",
              "      <div>\n",
              "<style scoped>\n",
              "    .dataframe tbody tr th:only-of-type {\n",
              "        vertical-align: middle;\n",
              "    }\n",
              "\n",
              "    .dataframe tbody tr th {\n",
              "        vertical-align: top;\n",
              "    }\n",
              "\n",
              "    .dataframe thead th {\n",
              "        text-align: right;\n",
              "    }\n",
              "</style>\n",
              "<table border=\"1\" class=\"dataframe\">\n",
              "  <thead>\n",
              "    <tr style=\"text-align: right;\">\n",
              "      <th></th>\n",
              "      <th>Adj Close</th>\n",
              "      <th>Predictions</th>\n",
              "    </tr>\n",
              "    <tr>\n",
              "      <th>Date</th>\n",
              "      <th></th>\n",
              "      <th></th>\n",
              "    </tr>\n",
              "  </thead>\n",
              "  <tbody>\n",
              "    <tr>\n",
              "      <th>2019-08-06</th>\n",
              "      <td>131.284821</td>\n",
              "      <td>129.566650</td>\n",
              "    </tr>\n",
              "    <tr>\n",
              "      <th>2019-08-07</th>\n",
              "      <td>131.859924</td>\n",
              "      <td>129.867065</td>\n",
              "    </tr>\n",
              "    <tr>\n",
              "      <th>2019-08-08</th>\n",
              "      <td>135.378647</td>\n",
              "      <td>130.716125</td>\n",
              "    </tr>\n",
              "    <tr>\n",
              "      <th>2019-08-09</th>\n",
              "      <td>134.228485</td>\n",
              "      <td>133.080139</td>\n",
              "    </tr>\n",
              "    <tr>\n",
              "      <th>2019-08-12</th>\n",
              "      <td>132.356995</td>\n",
              "      <td>133.441711</td>\n",
              "    </tr>\n",
              "    <tr>\n",
              "      <th>...</th>\n",
              "      <td>...</td>\n",
              "      <td>...</td>\n",
              "    </tr>\n",
              "    <tr>\n",
              "      <th>2021-12-17</th>\n",
              "      <td>323.799988</td>\n",
              "      <td>279.516083</td>\n",
              "    </tr>\n",
              "    <tr>\n",
              "      <th>2021-12-20</th>\n",
              "      <td>319.910004</td>\n",
              "      <td>277.692108</td>\n",
              "    </tr>\n",
              "    <tr>\n",
              "      <th>2021-12-21</th>\n",
              "      <td>327.290009</td>\n",
              "      <td>275.651794</td>\n",
              "    </tr>\n",
              "    <tr>\n",
              "      <th>2021-12-22</th>\n",
              "      <td>333.200012</td>\n",
              "      <td>279.759460</td>\n",
              "    </tr>\n",
              "    <tr>\n",
              "      <th>2021-12-23</th>\n",
              "      <td>334.690002</td>\n",
              "      <td>285.037933</td>\n",
              "    </tr>\n",
              "  </tbody>\n",
              "</table>\n",
              "<p>603 rows × 2 columns</p>\n",
              "</div>\n",
              "      <button class=\"colab-df-convert\" onclick=\"convertToInteractive('df-3a3360d7-96ab-4951-964d-a3b371fcba12')\"\n",
              "              title=\"Convert this dataframe to an interactive table.\"\n",
              "              style=\"display:none;\">\n",
              "        \n",
              "  <svg xmlns=\"http://www.w3.org/2000/svg\" height=\"24px\"viewBox=\"0 0 24 24\"\n",
              "       width=\"24px\">\n",
              "    <path d=\"M0 0h24v24H0V0z\" fill=\"none\"/>\n",
              "    <path d=\"M18.56 5.44l.94 2.06.94-2.06 2.06-.94-2.06-.94-.94-2.06-.94 2.06-2.06.94zm-11 1L8.5 8.5l.94-2.06 2.06-.94-2.06-.94L8.5 2.5l-.94 2.06-2.06.94zm10 10l.94 2.06.94-2.06 2.06-.94-2.06-.94-.94-2.06-.94 2.06-2.06.94z\"/><path d=\"M17.41 7.96l-1.37-1.37c-.4-.4-.92-.59-1.43-.59-.52 0-1.04.2-1.43.59L10.3 9.45l-7.72 7.72c-.78.78-.78 2.05 0 2.83L4 21.41c.39.39.9.59 1.41.59.51 0 1.02-.2 1.41-.59l7.78-7.78 2.81-2.81c.8-.78.8-2.07 0-2.86zM5.41 20L4 18.59l7.72-7.72 1.47 1.35L5.41 20z\"/>\n",
              "  </svg>\n",
              "      </button>\n",
              "      \n",
              "  <style>\n",
              "    .colab-df-container {\n",
              "      display:flex;\n",
              "      flex-wrap:wrap;\n",
              "      gap: 12px;\n",
              "    }\n",
              "\n",
              "    .colab-df-convert {\n",
              "      background-color: #E8F0FE;\n",
              "      border: none;\n",
              "      border-radius: 50%;\n",
              "      cursor: pointer;\n",
              "      display: none;\n",
              "      fill: #1967D2;\n",
              "      height: 32px;\n",
              "      padding: 0 0 0 0;\n",
              "      width: 32px;\n",
              "    }\n",
              "\n",
              "    .colab-df-convert:hover {\n",
              "      background-color: #E2EBFA;\n",
              "      box-shadow: 0px 1px 2px rgba(60, 64, 67, 0.3), 0px 1px 3px 1px rgba(60, 64, 67, 0.15);\n",
              "      fill: #174EA6;\n",
              "    }\n",
              "\n",
              "    [theme=dark] .colab-df-convert {\n",
              "      background-color: #3B4455;\n",
              "      fill: #D2E3FC;\n",
              "    }\n",
              "\n",
              "    [theme=dark] .colab-df-convert:hover {\n",
              "      background-color: #434B5C;\n",
              "      box-shadow: 0px 1px 3px 1px rgba(0, 0, 0, 0.15);\n",
              "      filter: drop-shadow(0px 1px 2px rgba(0, 0, 0, 0.3));\n",
              "      fill: #FFFFFF;\n",
              "    }\n",
              "  </style>\n",
              "\n",
              "      <script>\n",
              "        const buttonEl =\n",
              "          document.querySelector('#df-3a3360d7-96ab-4951-964d-a3b371fcba12 button.colab-df-convert');\n",
              "        buttonEl.style.display =\n",
              "          google.colab.kernel.accessAllowed ? 'block' : 'none';\n",
              "\n",
              "        async function convertToInteractive(key) {\n",
              "          const element = document.querySelector('#df-3a3360d7-96ab-4951-964d-a3b371fcba12');\n",
              "          const dataTable =\n",
              "            await google.colab.kernel.invokeFunction('convertToInteractive',\n",
              "                                                     [key], {});\n",
              "          if (!dataTable) return;\n",
              "\n",
              "          const docLinkHtml = 'Like what you see? Visit the ' +\n",
              "            '<a target=\"_blank\" href=https://colab.research.google.com/notebooks/data_table.ipynb>data table notebook</a>'\n",
              "            + ' to learn more about interactive tables.';\n",
              "          element.innerHTML = '';\n",
              "          dataTable['output_type'] = 'display_data';\n",
              "          await google.colab.output.renderOutput(dataTable, element);\n",
              "          const docLink = document.createElement('div');\n",
              "          docLink.innerHTML = docLinkHtml;\n",
              "          element.appendChild(docLink);\n",
              "        }\n",
              "      </script>\n",
              "    </div>\n",
              "  </div>\n",
              "  "
            ],
            "text/plain": [
              "             Adj Close  Predictions\n",
              "Date                               \n",
              "2019-08-06  131.284821   129.566650\n",
              "2019-08-07  131.859924   129.867065\n",
              "2019-08-08  135.378647   130.716125\n",
              "2019-08-09  134.228485   133.080139\n",
              "2019-08-12  132.356995   133.441711\n",
              "...                ...          ...\n",
              "2021-12-17  323.799988   279.516083\n",
              "2021-12-20  319.910004   277.692108\n",
              "2021-12-21  327.290009   275.651794\n",
              "2021-12-22  333.200012   279.759460\n",
              "2021-12-23  334.690002   285.037933\n",
              "\n",
              "[603 rows x 2 columns]"
            ]
          },
          "metadata": {},
          "execution_count": 25
        }
      ]
    },
    {
      "cell_type": "code",
      "source": [
        "from os import X_OK\n",
        "#Get the stock for MSFT\n",
        "MSFT_Quote = web.get_data_yahoo(\"MSFT\",\n",
        "                         start=datetime.datetime(2010, 1, 1),\n",
        "                         end=datetime.datetime(2019,12,17))\n",
        "#Create a new dataframe\n",
        "new_df = MSFT_Quote.filter([\"Adj Close\"])\n",
        "#Get the last 60 day closing price values and convert the dataframe to an array\n",
        "last_60_days = new_df[-60:].values\n",
        "#Scale the data to be values between 0 and 1\n",
        "last_60_days_scaled = scaler.transform(last_60_days)\n",
        "#Create an empty list\n",
        "X_test = []\n",
        "#Append the past 60 days\n",
        "X_test.append(last_60_days_scaled)\n",
        "#Convert the X_test data set to a numpy array\n",
        "X_test = np.array(X_test)\n",
        "#Reshape the data\n",
        "X_test = np.reshape(X_test, (X_test.shape[0], X_test.shape[1], 1))\n",
        "#Get the predicted scaled price\n",
        "pred_price = model.predict(X_test)\n",
        "#Undo the scaling\n",
        "pred_price = scaler.inverse_transform(pred_price)\n",
        "print(\"Predicted ADj Close:\", pred_price)"
      ],
      "metadata": {
        "colab": {
          "base_uri": "https://localhost:8080/"
        },
        "id": "nuaKkwjDB63H",
        "outputId": "8353d3f1-6f10-4954-f05e-5a401791fc8f"
      },
      "execution_count": null,
      "outputs": [
        {
          "output_type": "stream",
          "name": "stdout",
          "text": [
            "Predicted ADj Close: [[148.18307]]\n"
          ]
        }
      ]
    },
    {
      "cell_type": "code",
      "source": [
        "#Let compare the priced price with the actual price from the Dataset\n",
        "MSFT_Quote = web.get_data_yahoo(\"MSFT\",\n",
        "                         start=datetime.datetime(2019,12,18),\n",
        "                         end=datetime.datetime(2019,12,18))\n",
        "MSFT_Quote[\"Adj Close\"]"
      ],
      "metadata": {
        "colab": {
          "base_uri": "https://localhost:8080/"
        },
        "id": "X2Gwv3JFL521",
        "outputId": "b9b6ede5-a1a8-4427-f3ee-ec441885ac55"
      },
      "execution_count": null,
      "outputs": [
        {
          "output_type": "execute_result",
          "data": {
            "text/plain": [
              "Date\n",
              "2019-12-18    151.482025\n",
              "Name: Adj Close, dtype: float64"
            ]
          },
          "metadata": {},
          "execution_count": 31
        }
      ]
    }
  ]
}